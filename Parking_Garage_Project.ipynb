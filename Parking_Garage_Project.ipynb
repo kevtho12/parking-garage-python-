{
  "cells": [
    {
      "cell_type": "markdown",
      "metadata": {
        "id": "8STtj_rhyRo1"
      },
      "source": [
        "# Parking Garage Project\n",
        "\n",
        "Your assignment for today is to create a parking garage class to get more familiar with Object Oriented Programming(OOP). \n",
        "\n",
        "Your parking gargage class should have the following methods:\n",
        "- takeTicket\n",
        "   - This should decrease the amount of tickets available by 1\n",
        "   - This should decrease the amount of parkingSpaces available by 1\n",
        "- payForParking\n",
        "   - Display an input that waits for an amount from the user and store it in a variable\n",
        "   - If the payment variable is not empty then ->  display a message to the user that their ticket has been paid and they have 15mins to leave\n",
        "   - This should update the \"currentTicket\" dictionary key \"paid\" to True\n",
        "-leaveGarage\n",
        "   - If the ticket has been paid, display a message of \"Thank You, have a nice day\"\n",
        "   - If the ticket has not been paid, display an input prompt for payment\n",
        "      - Once paid, display message \"Thank you, have a nice day!\"\n",
        "   - Update parkingSpaces list to increase by 1\n",
        "   - Update tickets list to increase by 1\n",
        "\n",
        "You will need a few attributes as well:\n",
        "- tickets -> list\n",
        "- parkingSpaces -> list\n",
        "- currentTicket -> dictionary"
      ]
    },
    {
      "cell_type": "code",
      "execution_count": null,
      "metadata": {
        "id": "_yVLtddnyRo5",
        "outputId": "44b8c596-de9c-4111-f324-f2b2830415c1",
        "colab": {
          "base_uri": "https://localhost:8080/"
        }
      },
      "outputs": [
        {
          "output_type": "stream",
          "name": "stdout",
          "text": [
            "Welcome to the Parking Garage!\n",
            "\n",
            "Please take a ticket.\n"
          ]
        }
      ],
      "source": [
        "# Your Code will go here\n",
        "class ParkingGarage():\n",
        "    def __init__(self):\n",
        "        self.tickets = [0, 1, 2, 3, 4, 5]\n",
        "        self.parkingSpaces = [0, 1, 2, 3, 4, 5]\n",
        "        self.currentTicket = {}\n",
        "\n",
        "    def takeTicket(self):\n",
        "        if len(self.parkingSpaces)==0:\n",
        "            print('parking garage is full')\n",
        "\n",
        "        else:\n",
        "            self.tickets.remove(self.tickets[-1])\n",
        "            self.parkingSpaces.remove(self.parkingSpaces[-1])\n",
        "\n",
        "    def payForParking(self):\n",
        "\n",
        "        amount = input('Enter 5 to pay now: ')\n",
        "        if amount == '5':\n",
        "            self.currentTicket['Paid'] = True\n",
        "            print('ticket has been paid, you have 15 minutes to leave')\n",
        "\n",
        "    def leaveGarage(self):\n",
        "\n",
        "        if self.currentTicket['Paid']==True:\n",
        "            print('Thank you, have a nice day!')\n",
        "\n",
        "        else:\n",
        "\n",
        "            amount = input('Enter 5 to pay ticket: ')\n",
        "\n",
        "            if amount !='5':\n",
        "                amount = input('Enter 5 to pay ticket: ')\n",
        "\n",
        "            \n",
        "            self.tickets.append(self.tickets[-1]+1)\n",
        "            self.parkingSpaces.append(self.parkingSpaces[-1]+1)\n",
        "\n",
        "\n",
        "\n",
        "\n",
        "def run():\n",
        "    \n",
        "    car = ParkingGarage()\n",
        "    print('Welcome to the Parking Garage!\\n')\n",
        "\n",
        "    print('Please take a ticket.')\n",
        "\n",
        "    printedTicket = input('Enter yes to take ticket: ')\n",
        "\n",
        "    if printedTicket.lower() == \"yes\":\n",
        "        car.takeTicket()\n",
        "\n",
        "        car.payForParking()\n",
        "\n",
        "        car.leaveGarage()\n",
        "\n",
        "    else:\n",
        "        print('Error')\n",
        "run()\n"
      ]
    }
  ],
  "metadata": {
    "kernelspec": {
      "display_name": "Python 3",
      "language": "python",
      "name": "python3"
    },
    "language_info": {
      "codemirror_mode": {
        "name": "ipython",
        "version": 3
      },
      "file_extension": ".py",
      "mimetype": "text/x-python",
      "name": "python",
      "nbconvert_exporter": "python",
      "pygments_lexer": "ipython3",
      "version": "3.7.3"
    },
    "colab": {
      "provenance": []
    }
  },
  "nbformat": 4,
  "nbformat_minor": 0
}